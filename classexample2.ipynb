{
  "metadata": {
    "kernelspec": {
      "name": "python",
      "display_name": "Python (Pyodide)",
      "language": "python"
    },
    "language_info": {
      "codemirror_mode": {
        "name": "python",
        "version": 3
      },
      "file_extension": ".py",
      "mimetype": "text/x-python",
      "name": "python",
      "nbconvert_exporter": "python",
      "pygments_lexer": "ipython3",
      "version": "3.8"
    }
  },
  "nbformat_minor": 4,
  "nbformat": 4,
  "cells": [
    {
      "cell_type": "code",
      "source": "",
      "metadata": {
        "trusted": true
      },
      "outputs": [],
      "execution_count": null
    },
    {
      "cell_type": "code",
      "source": "text1=\"I love biryani! It's amazing. Our whole family loves biryani, it tastes delicious. My family and I are eagerly waiting to eat it again $ \"\nclass textformat:\n    def __init__(self,text):\n        ftext=text.replace(\"!\",\" \").replace(\"$\",\"\").replace(\",\",\"\")\n        ftext=ftext.lower()\n        self.ftext=ftext\n    def splittext(self):\n        self.stext=self.ftext.split(' ')\n        return self.stext\n    def printtext(self):\n        return self.ftext\n    def freqword(self):\n        self.tdict={}\n        for word in set(self.stext):\n            self.tdict[word]=self.stext.count(word)\n        return self.tdict\n    def findword(self,word):\n        if word in self.tdict:\n            return (word,self.tdict[word])\n        else:\n            return word + \" not found\"\ntextfmt1=textformat(text1)\nd=textfmt1.splittext()\ne=textfmt1.freqword()\nf=textfmt1.findword(\"biry\")\nprint(f\"values are {d} \\n {e} \\n {f}\")\n\n        ",
      "metadata": {
        "trusted": true
      },
      "outputs": [
        {
          "name": "stdout",
          "text": "values are ['i', 'love', 'biryani', '', \"it's\", 'amazing.', 'our', 'whole', 'family', 'loves', 'biryani', 'it', 'tastes', 'delicious.', 'my', 'family', 'and', 'i', 'are', 'eagerly', 'waiting', 'to', 'eat', 'it', 'again', '', ''] \n {'': 3, 'eagerly': 1, 'again': 1, 'to': 1, 'biryani': 2, 'i': 2, 'are': 1, 'love': 1, 'delicious.': 1, 'loves': 1, 'our': 1, 'whole': 1, 'amazing.': 1, 'my': 1, \"it's\": 1, 'it': 2, 'family': 2, 'tastes': 1, 'and': 1, 'eat': 1, 'waiting': 1} \n biry not found\n",
          "output_type": "stream"
        }
      ],
      "execution_count": 41
    },
    {
      "cell_type": "code",
      "source": "",
      "metadata": {
        "trusted": true
      },
      "outputs": [],
      "execution_count": null
    }
  ]
}