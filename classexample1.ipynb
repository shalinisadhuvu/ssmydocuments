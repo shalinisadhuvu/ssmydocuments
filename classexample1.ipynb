{
  "metadata": {
    "kernelspec": {
      "name": "python",
      "display_name": "Python (Pyodide)",
      "language": "python"
    },
    "language_info": {
      "codemirror_mode": {
        "name": "python",
        "version": 3
      },
      "file_extension": ".py",
      "mimetype": "text/x-python",
      "name": "python",
      "nbconvert_exporter": "python",
      "pygments_lexer": "ipython3",
      "version": "3.8"
    }
  },
  "nbformat_minor": 4,
  "nbformat": 4,
  "cells": [
    {
      "cell_type": "code",
      "source": "class bookdetails:\n    def __init__(self,title,author,price):\n        self.title=title\n        self.author=author\n        self.price=price\n    def discountprice(self,discount):\n        discountedprice=self.price-((self.price*discount)/100)\n        self.price=discountedprice\n    def print(self):\n        print(\"title:\",self.title)\n        print(\"author:\",self.author)\n        print(\"price:\",self.price)\nbook1=bookdetails(\"Data Science Professional\",\"Shalini\",150)\nbook1.discountprice(15)\nbook1.print()\n\nbook2=bookdetails(\"LLM\",\"Rama\",300)\nbook2.discountprice(30)\nbook2.print()\n        ",
      "metadata": {
        "trusted": true
      },
      "outputs": [
        {
          "name": "stdout",
          "text": "title: Data Science Professional\nauthor: Shalini\nprice: 127.5\ntitle: LLM\nauthor: Rama\nprice: 210.0\n",
          "output_type": "stream"
        }
      ],
      "execution_count": 3
    },
    {
      "cell_type": "code",
      "source": "book1.author=\"suj\"",
      "metadata": {
        "trusted": true
      },
      "outputs": [],
      "execution_count": 4
    },
    {
      "cell_type": "code",
      "source": "book1.print()",
      "metadata": {
        "trusted": true
      },
      "outputs": [
        {
          "name": "stdout",
          "text": "title: Data Science Professional\nauthor: suj\nprice: 127.5\n",
          "output_type": "stream"
        }
      ],
      "execution_count": 5
    },
    {
      "cell_type": "code",
      "source": "",
      "metadata": {
        "trusted": true
      },
      "outputs": [],
      "execution_count": null
    }
  ]
}